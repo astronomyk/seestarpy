{
 "cells": [
  {
   "cell_type": "code",
   "id": "initial_id",
   "metadata": {
    "collapsed": true,
    "ExecuteTime": {
     "end_time": "2025-07-11T19:36:35.774584Z",
     "start_time": "2025-07-11T19:36:35.768665Z"
    }
   },
   "source": [
    "from time import sleep\n",
    "from src.seestarpy import raw_commands as raw\n",
    "from src.seestarpy import connection as conn\n",
    "\n",
    "conn.VERBOSE = True\n",
    "conn.DEFAULT_IP = \"192.168.1.243\""
   ],
   "outputs": [],
   "execution_count": 128
  },
  {
   "metadata": {
    "ExecuteTime": {
     "end_time": "2025-07-11T18:46:39.247199Z",
     "start_time": "2025-07-11T18:46:39.096115Z"
    }
   },
   "cell_type": "code",
   "source": "raw.get_camera_state()",
   "id": "3c629b6a4331c7a1",
   "outputs": [
    {
     "data": {
      "text/plain": [
       "{'jsonrpc': '2.0',\n",
       " 'Timestamp': '1699.759300886',\n",
       " 'method': 'get_camera_state',\n",
       " 'result': {'state': 'idle',\n",
       "  'name': 'Seestar S50',\n",
       "  'path': 'on-board-Seestar S50'},\n",
       " 'code': 0,\n",
       " 'id': 1}"
      ]
     },
     "execution_count": 44,
     "metadata": {},
     "output_type": "execute_result"
    }
   ],
   "execution_count": 44
  },
  {
   "metadata": {
    "ExecuteTime": {
     "end_time": "2025-07-11T18:46:33.058763Z",
     "start_time": "2025-07-11T18:46:32.786828Z"
    }
   },
   "cell_type": "code",
   "source": "raw.start_create_dark()",
   "id": "1b698b910cd63a7c",
   "outputs": [
    {
     "data": {
      "text/plain": [
       "{'jsonrpc': '2.0',\n",
       " 'Timestamp': '1693.572169016',\n",
       " 'method': 'start_create_dark',\n",
       " 'result': 0,\n",
       " 'code': 0,\n",
       " 'id': 1}"
      ]
     },
     "execution_count": 42,
     "metadata": {},
     "output_type": "execute_result"
    }
   ],
   "execution_count": 42
  },
  {
   "metadata": {
    "ExecuteTime": {
     "end_time": "2025-07-11T18:50:30.360362Z",
     "start_time": "2025-07-11T18:50:30.215301Z"
    }
   },
   "cell_type": "code",
   "source": "raw.iscope_get_app_state()",
   "id": "e898c55f5eaee88a",
   "outputs": [
    {
     "data": {
      "text/plain": [
       "{'jsonrpc': '2.0',\n",
       " 'Timestamp': '1930.871648922',\n",
       " 'method': 'iscope_get_app_state',\n",
       " 'result': {'FocuserMove': {'state': 'complete',\n",
       "   'lapse_ms': 2376,\n",
       "   'position': 1580},\n",
       "  'DarkLibrary': {'state': 'complete', 'lapse_ms': 59298, 'percent': 100.0}},\n",
       " 'code': 0,\n",
       " 'id': 1}"
      ]
     },
     "execution_count": 53,
     "metadata": {},
     "output_type": "execute_result"
    }
   ],
   "execution_count": 53
  },
  {
   "metadata": {
    "ExecuteTime": {
     "end_time": "2025-07-11T18:49:56.358208Z",
     "start_time": "2025-07-11T18:49:56.225597Z"
    }
   },
   "cell_type": "code",
   "source": "raw.iscope_start_view()",
   "id": "f5d4d6c3c9cc9552",
   "outputs": [
    {
     "data": {
      "text/plain": [
       "{'jsonrpc': '2.0',\n",
       " 'Timestamp': '1896.874351749',\n",
       " 'method': 'get_focuser_position',\n",
       " 'result': 1605,\n",
       " 'code': 0,\n",
       " 'id': 1}"
      ]
     },
     "execution_count": 52,
     "metadata": {},
     "output_type": "execute_result"
    }
   ],
   "execution_count": 52
  },
  {
   "metadata": {
    "ExecuteTime": {
     "end_time": "2025-07-11T18:47:12.070528Z",
     "start_time": "2025-07-11T18:47:11.318328Z"
    }
   },
   "cell_type": "code",
   "source": "raw.get_device_state()",
   "id": "6d867b328cb8d9b4",
   "outputs": [
    {
     "data": {
      "text/plain": [
       "{'Event': 'DarkLibrary',\n",
       " 'Timestamp': '1732.409691166',\n",
       " 'state': 'working',\n",
       " 'lapse_ms': 38837,\n",
       " 'percent': 65.031998,\n",
       " 'route': []}"
      ]
     },
     "execution_count": 46,
     "metadata": {},
     "output_type": "execute_result"
    }
   ],
   "execution_count": 46
  },
  {
   "metadata": {
    "ExecuteTime": {
     "end_time": "2025-07-11T18:35:48.618910Z",
     "start_time": "2025-07-11T18:35:48.351844Z"
    }
   },
   "cell_type": "code",
   "source": "raw.scope_get_horiz_coord()",
   "id": "8b60dc9aa8964c29",
   "outputs": [
    {
     "data": {
      "text/plain": [
       "{'jsonrpc': '2.0',\n",
       " 'Timestamp': '1048.985066970',\n",
       " 'method': 'scope_get_horiz_coord',\n",
       " 'result': [-89.8, 0.0],\n",
       " 'code': 0,\n",
       " 'id': 1}"
      ]
     },
     "execution_count": 17,
     "metadata": {},
     "output_type": "execute_result"
    }
   ],
   "execution_count": 17
  },
  {
   "metadata": {
    "ExecuteTime": {
     "end_time": "2025-07-11T18:36:01.640391Z",
     "start_time": "2025-07-11T18:36:01.328139Z"
    }
   },
   "cell_type": "code",
   "source": "raw.scope_move_to_horizon()",
   "id": "eeff08f8378e75c7",
   "outputs": [
    {
     "data": {
      "text/plain": [
       "{'jsonrpc': '2.0',\n",
       " 'Timestamp': '1062.090545469',\n",
       " 'method': 'scope_move_to_horizon',\n",
       " 'result': 0,\n",
       " 'code': 0,\n",
       " 'id': 1}"
      ]
     },
     "execution_count": 18,
     "metadata": {},
     "output_type": "execute_result"
    }
   ],
   "execution_count": 18
  },
  {
   "metadata": {
    "ExecuteTime": {
     "end_time": "2025-07-11T19:04:17.986217Z",
     "start_time": "2025-07-11T19:04:02.815459Z"
    }
   },
   "cell_type": "code",
   "source": [
    "import socket\n",
    "s = socket.socket(socket.AF_INET, socket.SOCK_STREAM)\n",
    "\n",
    "s.connect((\"192.168.1.243\", 4800))\n",
    "for _ in range(10):\n",
    "    data = s.recv(1024*60)\n",
    "    print(data)\n",
    "\n",
    "\n",
    "s.close()"
   ],
   "id": "3ca5f39d9e562ec4",
   "outputs": [
    {
     "name": "stdout",
     "output_type": "stream",
     "text": [
      "b''\n",
      "b''\n",
      "b''\n",
      "b''\n",
      "b''\n",
      "b''\n",
      "b''\n",
      "b''\n",
      "b''\n",
      "b''\n"
     ]
    }
   ],
   "execution_count": 55
  },
  {
   "metadata": {
    "ExecuteTime": {
     "end_time": "2025-07-11T19:33:54.441767Z",
     "start_time": "2025-07-11T19:33:54.327829Z"
    }
   },
   "cell_type": "code",
   "source": "raw.scope_speed_move(4000, 180, 10)",
   "id": "7f1bb5177ca743d4",
   "outputs": [
    {
     "data": {
      "text/plain": [
       "{'jsonrpc': '2.0',\n",
       " 'Timestamp': '4534.948262444',\n",
       " 'method': 'scope_speed_move',\n",
       " 'result': 0,\n",
       " 'code': 0,\n",
       " 'id': 1}"
      ]
     },
     "execution_count": 125,
     "metadata": {},
     "output_type": "execute_result"
    }
   ],
   "execution_count": 125
  },
  {
   "metadata": {
    "ExecuteTime": {
     "end_time": "2025-07-11T19:26:39.023685Z",
     "start_time": "2025-07-11T19:26:38.831584Z"
    }
   },
   "cell_type": "code",
   "source": "raw.scope_park()",
   "id": "f088e7629f610843",
   "outputs": [
    {
     "data": {
      "text/plain": [
       "{'jsonrpc': '2.0',\n",
       " 'Timestamp': '4099.437203533',\n",
       " 'method': 'scope_park',\n",
       " 'result': 0,\n",
       " 'code': 0,\n",
       " 'id': 1}"
      ]
     },
     "execution_count": 100,
     "metadata": {},
     "output_type": "execute_result"
    }
   ],
   "execution_count": 100
  },
  {
   "metadata": {
    "ExecuteTime": {
     "end_time": "2025-07-11T19:32:06.164181Z",
     "start_time": "2025-07-11T19:32:05.946573Z"
    }
   },
   "cell_type": "code",
   "source": "raw.scope_move_to_horizon()",
   "id": "2bd7c6aa77988b0e",
   "outputs": [
    {
     "data": {
      "text/plain": [
       "{'jsonrpc': '2.0',\n",
       " 'Timestamp': '4426.605459802',\n",
       " 'method': 'scope_move_to_horizon',\n",
       " 'result': 0,\n",
       " 'code': 0,\n",
       " 'id': 1}"
      ]
     },
     "execution_count": 121,
     "metadata": {},
     "output_type": "execute_result"
    }
   ],
   "execution_count": 121
  },
  {
   "metadata": {
    "ExecuteTime": {
     "end_time": "2025-07-11T19:31:57.144205Z",
     "start_time": "2025-07-11T19:31:56.905547Z"
    }
   },
   "cell_type": "code",
   "source": "raw.scope_get_horiz_coord()",
   "id": "dc5ddc97488b04e1",
   "outputs": [
    {
     "data": {
      "text/plain": [
       "{'jsonrpc': '2.0',\n",
       " 'Timestamp': '4417.481897026',\n",
       " 'method': 'scope_get_horiz_coord',\n",
       " 'result': [4.453611, 348.114167],\n",
       " 'code': 0,\n",
       " 'id': 1}"
      ]
     },
     "execution_count": 120,
     "metadata": {},
     "output_type": "execute_result"
    }
   ],
   "execution_count": 120
  },
  {
   "metadata": {
    "ExecuteTime": {
     "end_time": "2025-07-11T19:38:09.377469Z",
     "start_time": "2025-07-11T19:37:56.586549Z"
    }
   },
   "cell_type": "code",
   "source": [
    "data1 = raw.scope_get_horiz_coord()\n",
    "print(data1[\"result\"])\n",
    "\n",
    "raw.scope_speed_move(4000, 180, 10)\n",
    "sleep(12)\n",
    "\n",
    "data2 = raw.scope_get_horiz_coord()\n",
    "print(data2[\"result\"])\n",
    "\n",
    "diff = data1[\"result\"][1] - data2[\"result\"][1]\n",
    "print(diff/10, diff/4000)"
   ],
   "id": "262ebfa686c3e04c",
   "outputs": [
    {
     "name": "stdout",
     "output_type": "stream",
     "text": [
      "[4.471111, 171.443889]\n",
      "[4.471111, 110.47]\n",
      "6.097388900000001 0.015243472250000004\n"
     ]
    }
   ],
   "execution_count": 130
  },
  {
   "metadata": {},
   "cell_type": "code",
   "outputs": [],
   "execution_count": null,
   "source": "",
   "id": "9c42a9a2e972b68c"
  },
  {
   "metadata": {
    "ExecuteTime": {
     "end_time": "2025-07-11T20:08:15.538325Z",
     "start_time": "2025-07-11T20:08:02.702818Z"
    }
   },
   "cell_type": "code",
   "source": [
    "speed = 240\n",
    "angle = 120\n",
    "duration = 10\n",
    "\n",
    "data1 = raw.scope_get_horiz_coord()\n",
    "print(data1[\"result\"])\n",
    "\n",
    "raw.scope_speed_move(speed, angle, duration)\n",
    "sleep(duration + 2)\n",
    "\n",
    "data2 = raw.scope_get_horiz_coord()\n",
    "print(data2[\"result\"])\n",
    "\n",
    "d_alt_angle = data1[\"result\"][0] - data2[\"result\"][0]\n",
    "d_az_angle = data1[\"result\"][1] - data2[\"result\"][1]\n",
    "print(d_alt_angle/duration, \"deg/sec\", d_alt_angle/(duration * speed) * 3600, \"arcsec/step\")\n",
    "print(d_az_angle/duration, \"deg/sec\", d_az_angle/(duration * speed) * 3600, \"arcsec/step\")\n"
   ],
   "id": "a0caffbb5442782",
   "outputs": [
    {
     "name": "stdout",
     "output_type": "stream",
     "text": [
      "[-0.147778, 310.897778]\n",
      "[8.503611, 305.854444]\n",
      "-0.8651389 deg/sec -12.9770835 arcsec/step\n",
      "0.5043334000000016 deg/sec 7.565001000000023 arcsec/step\n"
     ]
    }
   ],
   "execution_count": 168
  },
  {
   "metadata": {
    "ExecuteTime": {
     "end_time": "2025-07-11T19:49:13.747184Z",
     "start_time": "2025-07-11T19:49:13.732183Z"
    }
   },
   "cell_type": "code",
   "source": "60 / (1500 * 10) * 3600",
   "id": "fa3b8ea331baadcf",
   "outputs": [
    {
     "data": {
      "text/plain": [
       "14.4"
      ]
     },
     "execution_count": 150,
     "metadata": {},
     "output_type": "execute_result"
    }
   ],
   "execution_count": 150
  },
  {
   "metadata": {},
   "cell_type": "code",
   "outputs": [],
   "execution_count": null,
   "source": "",
   "id": "da252136113a7aa2"
  }
 ],
 "metadata": {
  "kernelspec": {
   "display_name": "Python 3",
   "language": "python",
   "name": "python3"
  },
  "language_info": {
   "codemirror_mode": {
    "name": "ipython",
    "version": 2
   },
   "file_extension": ".py",
   "mimetype": "text/x-python",
   "name": "python",
   "nbconvert_exporter": "python",
   "pygments_lexer": "ipython2",
   "version": "2.7.6"
  }
 },
 "nbformat": 4,
 "nbformat_minor": 5
}
